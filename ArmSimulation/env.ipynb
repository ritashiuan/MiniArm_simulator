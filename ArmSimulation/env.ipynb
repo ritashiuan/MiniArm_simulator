{
 "metadata": {
  "language_info": {
   "codemirror_mode": {
    "name": "ipython",
    "version": 3
   },
   "file_extension": ".py",
   "mimetype": "text/x-python",
   "name": "python",
   "nbconvert_exporter": "python",
   "pygments_lexer": "ipython3",
   "version": "3.7.7-final"
  },
  "orig_nbformat": 2,
  "kernelspec": {
   "name": "python37764bit377pyenvbd7091b8fbc441dd81a03103c27217f6",
   "display_name": "Python 3.7.7 64-bit ('3.7.7': pyenv)",
   "language": "python"
  }
 },
 "nbformat": 4,
 "nbformat_minor": 2,
 "cells": [
  {
   "cell_type": "markdown",
   "metadata": {},
   "source": [
    "# Pybullet GUI"
   ]
  },
  {
   "cell_type": "code",
   "execution_count": 1,
   "metadata": {
    "tags": []
   },
   "outputs": [],
   "source": [
    "import pybullet as pb\n",
    "import numpy as np\n",
    "import ArmInfo\n",
    "import time\n",
    "from math import *\n",
    "\n",
    "np.set_printoptions(precision= 2)\n",
    "\n",
    "physicsClient = pb.connect(pb.GUI,  options='--background_color_red=0.0 --background_color_green=0.66 --background_color_blue=0.66')\n",
    "# joe = pb.loadURDF(\"Joe_URDF/robot_2arm/urdf/robot244.urdf\", useFixedBase= 1)\n",
    "joe = pb.loadURDF(\"Joe/urdf/Joe.urdf\", useFixedBase= 1)\n",
    "pb.setGravity(0, 0, 0)\n",
    "pb.setRealTimeSimulation(1)"
   ]
  },
  {
   "cell_type": "markdown",
   "metadata": {},
   "source": [
    "# Setup of Arms"
   ]
  },
  {
   "cell_type": "code",
   "execution_count": 2,
   "metadata": {
    "tags": []
   },
   "outputs": [],
   "source": [
    "left_arm_DH_table = np.array([[pi/2,     pi, 175,    0],\n",
    "                              [pi/2,   pi/2,   0,    0],\n",
    "                              [-pi/2, -pi/2,   0,  122],\n",
    "                              [pi/2,   pi/2,   0,    0],\n",
    "                              [pi/2,  -pi/2,   0, -257],\n",
    "                              [0,     -pi/2,   0,    0],\n",
    "                              [0,      pi/2,   0,  258],\n",
    "                              [pi/2,   pi/2, 200,    0]])\n",
    "\n",
    "right_arm_DH_table = np.array([[-pi/2,   -pi, 175,    0],\n",
    "                               [-pi/2, -pi/2,   0,    0],\n",
    "                               [-pi/2, -pi/2,   0,  122],\n",
    "                               [-pi/2,  pi/2,   0,    0],\n",
    "                               [pi/2,   pi/2,   0, -257],\n",
    "                               [0,      pi/2,   0,    0],\n",
    "                               [0,     -pi/2,   0,  258],\n",
    "                               [-pi/2, -pi/2, 200,    0]])\n",
    "\n",
    "left_arm = ArmInfo.ArmInfo(left_arm_DH_table)\n",
    "right_arm = ArmInfo.ArmInfo(right_arm_DH_table)"
   ]
  },
  {
   "cell_type": "code",
   "execution_count": 3,
   "metadata": {
    "tags": []
   },
   "outputs": [],
   "source": [
    "def initialize():\n",
    "    left_arm.delta_angle = np.array([0, 0, 0, 1e-6, -pi/2, 1e-6, 0])\n",
    "    left_arm.update()\n",
    "    right_arm.delta_angle = np.array([0, 0, 0, 1e-6, pi/2, 1e-6, 0])\n",
    "    right_arm.update()\n",
    "\n",
    "    print(\"Current Position = {}, {}\".format(np.around(left_arm.current_position, 0), np.around(right_arm.current_position, 0)))\n",
    "    print(\"Current Orientation = {}, {}\".format(np.around(left_arm.get_current_orientation(), 0), np.around(right_arm.current_orientation, 0)))\n",
    "\n",
    "    for i in range(7):\n",
    "        pb.setJointMotorControl2(joe, jointIndex=i,\n",
    "                                      controlMode=pb.POSITION_CONTROL,\n",
    "                                      targetPosition = left_arm.delta_angle[i],\n",
    "                                      force = 500)\n",
    "\n",
    "    for i in range(7, 14):\n",
    "        pb.setJointMotorControl2(joe, jointIndex=i,\n",
    "                                      controlMode=pb.POSITION_CONTROL,\n",
    "                                      targetPosition = right_arm.delta_angle[i-7],\n",
    "                                      force = 500)"
   ]
  },
  {
   "cell_type": "code",
   "execution_count": 4,
   "metadata": {},
   "outputs": [
    {
     "output_type": "stream",
     "name": "stdout",
     "text": [
      "Current Position = [ 458.  297. -257.], [ 458. -297. -257.]\nCurrent Orientation = [0. 0. 0.], [ 0. -0.  0.]\n"
     ]
    }
   ],
   "source": [
    "initialize()"
   ]
  },
  {
   "cell_type": "code",
   "execution_count": 5,
   "metadata": {},
   "outputs": [],
   "source": [
    "def trajectory_planning_left(j0, ox, oy, oz, px, py, pz):\n",
    "    velocity_factor = 1.0\n",
    "    angular_threshold = pi/180\n",
    "    linear_threshold = 1.0\n",
    "    zeroth_joint_threshold = pi/180\n",
    "\n",
    "    angular_error = sqrt(pow(ox * pi / 180 - left_arm.current_orientation[0], 2) +\n",
    "                         pow(oy * pi / 180 - left_arm.current_orientation[1], 2) +\n",
    "                         pow(oz * pi / 180 - left_arm.current_orientation[2], 2)) / 3\n",
    "    \n",
    "    linear_error = sqrt(pow(px - left_arm.current_position[0], 2) +\n",
    "                        pow(py - left_arm.current_position[1], 2) +\n",
    "                        pow(pz - left_arm.current_position[2], 2)) / 3\n",
    "\n",
    "    zeroth_joint_error = (j0 * pi / 180 - pb.getJointState(joe, 0)[0])\n",
    "\n",
    "    while angular_error > angular_threshold or linear_error > linear_threshold or abs(zeroth_joint_error) > zeroth_joint_threshold:\n",
    "        # update arm state\n",
    "        left_arm.delta_angle = np.array(pb.getJointStates(joe, [0, 1, 2, 3, 4, 5, 6]))[0:7, 0]\n",
    "        left_arm.update()\n",
    "\n",
    "        # update error\n",
    "        angular_error = sqrt(pow(ox * pi / 180 - left_arm.current_orientation[0], 2) +\n",
    "                             pow(oy * pi / 180 - left_arm.current_orientation[1], 2) +\n",
    "                             pow(oz * pi / 180 - left_arm.current_orientation[2], 2)) / 3\n",
    "    \n",
    "        linear_error = sqrt(pow(px - left_arm.current_position[0], 2) +\n",
    "                            pow(py - left_arm.current_position[1], 2) +\n",
    "                            pow(pz - left_arm.current_position[2], 2)) / 3\n",
    "\n",
    "        zeroth_joint_error = (j0 * pi / 180 - pb.getJointState(joe, 0)[0])\n",
    "\n",
    "        # calculate linear velocity\n",
    "        vel_ox = (ox * pi / 180 - left_arm.current_orientation[0]) * velocity_factor\n",
    "        vel_oy = (oy * pi / 180 - left_arm.current_orientation[1]) * velocity_factor\n",
    "        vel_oz = (oz * pi / 180 - left_arm.current_orientation[2]) * velocity_factor\n",
    "\n",
    "        vel_px = (px - left_arm.current_position[0]) * velocity_factor\n",
    "        vel_py = (py - left_arm.current_position[1]) * velocity_factor\n",
    "        vel_pz = (pz - left_arm.current_position[2]) * velocity_factor\n",
    "\n",
    "        vel_zeroth_joint = (j0 * pi / 180 - pb.getJointState(joe, 0)[0])\n",
    "\n",
    "        linear_vel = np.array((vel_ox, vel_oy, vel_oz, vel_px, vel_py, vel_pz))\n",
    "        \n",
    "        angular_vel = np.matmul(left_arm.inverse_jacobian, linear_vel)\n",
    "\n",
    "        # check velocity limit\n",
    "        max_index = np.argmax(angular_vel)\n",
    "        max_value = np.max(angular_vel)\n",
    "\n",
    "        if abs(max_value) > pi:\n",
    "            print(\"\\tDangerous ! Stop moving.\")\n",
    "            break\n",
    "        elif abs(max_value) > pi/6:\n",
    "            angular_vel *= (pi / 6 / abs(max_value))\n",
    "        \n",
    "        # render in simulation\n",
    "        for i in range(7):\n",
    "            if i == 0:\n",
    "                pb.setJointMotorControl2(joe, jointIndex=i,\n",
    "                                            controlMode = pb.VELOCITY_CONTROL,\n",
    "                                            targetVelocity = vel_zeroth_joint,\n",
    "                                            force = 50000)\n",
    "\n",
    "            else:\n",
    "                pb.setJointMotorControl2(joe, jointIndex=i,\n",
    "                                            controlMode = pb.VELOCITY_CONTROL,\n",
    "                                            targetVelocity = angular_vel[i-1],\n",
    "                                            force = 50000)\n",
    "\n",
    "        time.sleep(0.1)\n",
    "\n",
    "    for i in range(7):\n",
    "        pb.setJointMotorControl2(joe, jointIndex=i,\n",
    "                                        controlMode = pb.VELOCITY_CONTROL,\n",
    "                                        targetVelocity = 0,\n",
    "                                        force = 500)"
   ]
  },
  {
   "cell_type": "code",
   "execution_count": 6,
   "metadata": {},
   "outputs": [],
   "source": [
    "def trajectory_planning_right(j0, ox, oy, oz, px, py, pz):\n",
    "    velocity_factor = 1.0\n",
    "    angular_threshold = pi/180\n",
    "    linear_threshold = 1.0\n",
    "    zeroth_joint_threshold = pi/180\n",
    "\n",
    "    angular_error = sqrt(pow(ox * pi / 180 - right_arm.current_orientation[0], 2) +\n",
    "                         pow(oy * pi / 180 - right_arm.current_orientation[1], 2) +\n",
    "                         pow(oz * pi / 180 - right_arm.current_orientation[2], 2)) / 3\n",
    "    \n",
    "    linear_error = sqrt(pow(px - right_arm.current_position[0], 2) +\n",
    "                        pow(py - right_arm.current_position[1], 2) +\n",
    "                        pow(pz - right_arm.current_position[2], 2)) / 3\n",
    "\n",
    "    zeroth_joint_error = (j0 * pi / 180 - pb.getJointState(joe, 7)[0])\n",
    "\n",
    "    while angular_error > angular_threshold or linear_error > linear_threshold or abs(zeroth_joint_error) > zeroth_joint_threshold:\n",
    "        # update arm state\n",
    "        right_arm.delta_angle = np.array(pb.getJointStates(joe, [7, 8, 9, 10, 11, 12, 13]))[0:7, 0]\n",
    "        right_arm.update()\n",
    "\n",
    "        # update error\n",
    "        angular_error = sqrt(pow(ox * pi / 180 - right_arm.current_orientation[0], 2) +\n",
    "                             pow(oy * pi / 180 - right_arm.current_orientation[1], 2) +\n",
    "                             pow(oz * pi / 180 - right_arm.current_orientation[2], 2)) / 3\n",
    "    \n",
    "        linear_error = sqrt(pow(px - right_arm.current_position[0], 2) +\n",
    "                            pow(py - right_arm.current_position[1], 2) +\n",
    "                            pow(pz - right_arm.current_position[2], 2)) / 3\n",
    "\n",
    "        zeroth_joint_error = (j0 * pi / 180 - pb.getJointState(joe, 7)[0])\n",
    "\n",
    "        # calculate linear velocity\n",
    "        vel_ox = (ox * pi / 180 - right_arm.current_orientation[0]) * velocity_factor\n",
    "        vel_oy = (oy * pi / 180 - right_arm.current_orientation[1]) * velocity_factor\n",
    "        vel_oz = (oz * pi / 180 - right_arm.current_orientation[2]) * velocity_factor\n",
    "\n",
    "        vel_px = (px - right_arm.current_position[0]) * velocity_factor\n",
    "        vel_py = (py - right_arm.current_position[1]) * velocity_factor\n",
    "        vel_pz = (pz - right_arm.current_position[2]) * velocity_factor\n",
    "\n",
    "        vel_zeroth_joint = (j0 * pi / 180 - pb.getJointState(joe, 7)[0])\n",
    "\n",
    "        linear_vel = np.array((vel_ox, vel_oy, vel_oz, vel_px, vel_py, vel_pz))\n",
    "        \n",
    "        angular_vel = np.matmul(right_arm.inverse_jacobian, linear_vel)\n",
    "\n",
    "        # check velocity limit\n",
    "        max_index = np.argmax(angular_vel)\n",
    "        max_value = np.max(angular_vel)\n",
    "\n",
    "        if abs(max_value) > pi:\n",
    "            print(\"\\tDangerous ! Stop moving.\")\n",
    "            break\n",
    "        elif abs(max_value) > pi/6:\n",
    "            angular_vel *= (pi / 6 / abs(max_value))\n",
    "        \n",
    "        # render in simulation\n",
    "        for i in range(7, 14):\n",
    "            if i == 7:\n",
    "                pb.setJointMotorControl2(joe, jointIndex=i,\n",
    "                                            controlMode = pb.VELOCITY_CONTROL,\n",
    "                                            targetVelocity = vel_zeroth_joint,\n",
    "                                            force = 50000)\n",
    "\n",
    "            else:\n",
    "                pb.setJointMotorControl2(joe, jointIndex=i,\n",
    "                                            controlMode = pb.VELOCITY_CONTROL,\n",
    "                                            targetVelocity = angular_vel[i-8],\n",
    "                                            force = 50000)\n",
    "\n",
    "        time.sleep(0.1)\n",
    "\n",
    "    for i in range(7, 14):\n",
    "        pb.setJointMotorControl2(joe, jointIndex=i,\n",
    "                                        controlMode = pb.VELOCITY_CONTROL,\n",
    "                                        targetVelocity = 0,\n",
    "                                        force = 500)"
   ]
  },
  {
   "cell_type": "code",
   "execution_count": 7,
   "metadata": {},
   "outputs": [
    {
     "output_type": "stream",
     "name": "stdout",
     "text": [
      "Current Position = [ 458.  297. -257.], [ 458. -297. -257.]\nCurrent Orientation = [0. 0. 0.], [ 0. -0.  0.]\n"
     ]
    }
   ],
   "source": [
    "initialize()"
   ]
  },
  {
   "cell_type": "code",
   "execution_count": 11,
   "metadata": {},
   "outputs": [
    {
     "output_type": "stream",
     "name": "stderr",
     "text": [
      "ipykernel_launcher:19: VisibleDeprecationWarning: Creating an ndarray from ragged nested sequences (which is a list-or-tuple of lists-or-tuples-or ndarrays with different lengths or shapes) is deprecated. If you meant to do this, you must specify 'dtype=object' when creating the ndarray\n"
     ]
    }
   ],
   "source": [
    "trajectory_planning_left(0, 0, 0, 0, 450, 300, 0)"
   ]
  },
  {
   "cell_type": "code",
   "execution_count": 15,
   "metadata": {},
   "outputs": [
    {
     "output_type": "stream",
     "name": "stderr",
     "text": [
      "ipykernel_launcher:19: VisibleDeprecationWarning: Creating an ndarray from ragged nested sequences (which is a list-or-tuple of lists-or-tuples-or ndarrays with different lengths or shapes) is deprecated. If you meant to do this, you must specify 'dtype=object' when creating the ndarray\n"
     ]
    }
   ],
   "source": [
    "trajectory_planning_right(0, 0, 0, 0, 350, -300, -300)"
   ]
  },
  {
   "cell_type": "code",
   "execution_count": 15,
   "metadata": {},
   "outputs": [],
   "source": [
    "pb.setJointMotorControl2(joe, jointIndex=6,\n",
    "                                        controlMode = pb.VELOCITY_CONTROL,\n",
    "                                        targetVelocity = 0,\n",
    "                                        force = 500)"
   ]
  },
  {
   "cell_type": "code",
   "execution_count": null,
   "metadata": {},
   "outputs": [],
   "source": []
  }
 ]
}